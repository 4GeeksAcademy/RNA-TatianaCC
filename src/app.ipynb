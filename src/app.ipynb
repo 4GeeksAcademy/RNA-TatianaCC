{
 "cells": [
  {
   "cell_type": "markdown",
   "metadata": {},
   "source": [
    "### 0. Importing modules and data\n",
    "#### 0.1 Preparing files structure"
   ]
  },
  {
   "cell_type": "code",
   "execution_count": 9,
   "metadata": {},
   "outputs": [],
   "source": [
    "import os\n",
    "import shutil\n",
    "from tensorflow.keras.preprocessing.image import ImageDataGenerator\n",
    "from keras.models import Sequential\n",
    "from keras.layers import Dense, Conv2D, MaxPool2D , Flatten\n",
    "from keras.optimizers import Adam\n",
    "from tensorflow import keras"
   ]
  },
  {
   "cell_type": "code",
   "execution_count": 10,
   "metadata": {},
   "outputs": [],
   "source": [
    "train_dir = '../data/raw/train'\n",
    "test_dir = '../data/raw'"
   ]
  },
  {
   "cell_type": "code",
   "execution_count": 11,
   "metadata": {},
   "outputs": [
    {
     "data": {
      "text/plain": [
       "\"\\ndef groupingfiles(input_folder, output_folder):\\n    if not os.path.exists(os.path.join(output_folder, 'cat')):\\n        os.makedirs(os.path.join(output_folder, 'cat'))\\n    if not os.path.exists(os.path.join(output_folder, 'dog')):\\n        os.makedirs(os.path.join(output_folder, 'dog'))\\n\\n    for filename in os.listdir(input_folder):\\n        filepath = os.path.join(input_folder, filename)\\n        if os.path.isfile(filepath) and filename.endswith('.jpg'):\\n            if 'cat' in filename:\\n                shutil.move(filepath, os.path.join(output_folder, 'cat', filename))\\n            elif 'dog' in filename:\\n                shutil.move(filepath, os.path.join(output_folder, 'dog', filename))\\n\\n\\ngroupingfiles(train_dir, train_dir )\\n\""
      ]
     },
     "execution_count": 11,
     "metadata": {},
     "output_type": "execute_result"
    }
   ],
   "source": [
    "#······························Grouping images(only once)····························#\n",
    "\"\"\"\n",
    "def groupingfiles(input_folder, output_folder):\n",
    "    if not os.path.exists(os.path.join(output_folder, 'cat')):\n",
    "        os.makedirs(os.path.join(output_folder, 'cat'))\n",
    "    if not os.path.exists(os.path.join(output_folder, 'dog')):\n",
    "        os.makedirs(os.path.join(output_folder, 'dog'))\n",
    "\n",
    "    for filename in os.listdir(input_folder):\n",
    "        filepath = os.path.join(input_folder, filename)\n",
    "        if os.path.isfile(filepath) and filename.endswith('.jpg'):\n",
    "            if 'cat' in filename:\n",
    "                shutil.move(filepath, os.path.join(output_folder, 'cat', filename))\n",
    "            elif 'dog' in filename:\n",
    "                shutil.move(filepath, os.path.join(output_folder, 'dog', filename))\n",
    "\n",
    "\n",
    "groupingfiles(train_dir, train_dir )\n",
    "\"\"\""
   ]
  },
  {
   "cell_type": "markdown",
   "metadata": {},
   "source": [
    "#### 0.2 Datasets"
   ]
  },
  {
   "cell_type": "code",
   "execution_count": 12,
   "metadata": {},
   "outputs": [],
   "source": [
    "train_datagen = ImageDataGenerator(rescale=1./255)\n",
    "test_datagen = ImageDataGenerator(rescale=1./255)"
   ]
  },
  {
   "cell_type": "code",
   "execution_count": 13,
   "metadata": {},
   "outputs": [
    {
     "name": "stdout",
     "output_type": "stream",
     "text": [
      "Found 25000 images belonging to 2 classes.\n",
      "Found 12500 images belonging to 1 classes.\n"
     ]
    }
   ],
   "source": [
    "trdata = train_datagen.flow_from_directory(\n",
    "        train_dir,  \n",
    "        target_size=(200, 200),\n",
    "        classes = [\"dog\", \"cat\"] )\n",
    "\n",
    "tsdata = test_datagen.flow_from_directory(\n",
    "        test_dir,\n",
    "        target_size=(200, 200),\n",
    "        batch_size=32,\n",
    "        classes=['test'])"
   ]
  },
  {
   "cell_type": "markdown",
   "metadata": {},
   "source": [
    "### 1.RNA Model\n",
    "#### 1.1 Bluid the model"
   ]
  },
  {
   "cell_type": "code",
   "execution_count": 14,
   "metadata": {},
   "outputs": [
    {
     "name": "stderr",
     "output_type": "stream",
     "text": [
      "2024-05-04 12:19:03.471083: W external/local_tsl/tsl/framework/cpu_allocator_impl.cc:83] Allocation of 301989888 exceeds 10% of free system memory.\n",
      "2024-05-04 12:19:03.869392: W external/local_tsl/tsl/framework/cpu_allocator_impl.cc:83] Allocation of 301989888 exceeds 10% of free system memory.\n"
     ]
    }
   ],
   "source": [
    "# Instance\n",
    "model = Sequential()\n",
    "\n",
    "# Convolutional layers are added with ReLU activation and 'same' padding to maintain feature size.\n",
    "model.add(Conv2D(input_shape = (200,200,3), filters = 64, kernel_size = (3,3), padding = \"same\", activation = \"relu\"))\n",
    "model.add(Conv2D(filters = 64,kernel_size = (3,3),padding = \"same\", activation = \"relu\"))\n",
    "model.add(MaxPool2D(pool_size = (2,2),strides = (2,2))) # MaxPool2D layers to reduce the spatial size of features and increase translational invariance.\n",
    "\n",
    "model.add(Conv2D(filters = 128, kernel_size = (3,3), padding = \"same\", activation = \"relu\"))\n",
    "model.add(Conv2D(filters = 128, kernel_size = (3,3), padding = \"same\", activation = \"relu\"))\n",
    "model.add(MaxPool2D(pool_size = (2,2),strides = (2,2)))\n",
    "\n",
    "model.add(Conv2D(filters = 256, kernel_size = (3,3), padding = \"same\", activation = \"relu\"))\n",
    "model.add(Conv2D(filters = 256, kernel_size = (3,3), padding = \"same\", activation = \"relu\"))\n",
    "model.add(Conv2D(filters = 256, kernel_size = (3,3), padding = \"same\", activation = \"relu\"))\n",
    "model.add(MaxPool2D(pool_size = (2,2),strides = (2,2)))\n",
    "\n",
    "model.add(Conv2D(filters = 512, kernel_size = (3,3), padding = \"same\", activation = \"relu\"))\n",
    "model.add(Conv2D(filters = 512, kernel_size = (3,3), padding = \"same\", activation = \"relu\"))\n",
    "model.add(Conv2D(filters = 512, kernel_size = (3,3), padding = \"same\", activation = \"relu\"))\n",
    "model.add(MaxPool2D(pool_size = (2,2),strides = (2,2)))\n",
    "\n",
    "model.add(Conv2D(filters = 512, kernel_size = (3,3), padding = \"same\", activation = \"relu\"))\n",
    "model.add(Conv2D(filters = 512, kernel_size = (3,3), padding = \"same\", activation = \"relu\"))\n",
    "model.add(Conv2D(filters = 512, kernel_size = (3,3), padding = \"same\", activation = \"relu\"))\n",
    "model.add(MaxPool2D(pool_size = (2,2),strides = (2,2)))\n",
    "\n",
    "# Move the Data through the Dense Layers\n",
    "model.add(Flatten())# Convert the three-dimensional feature maps into a vector\n",
    "model.add(Dense(units = 4096,activation = \"relu\"))\n",
    "model.add(Dense(units = 4096,activation = \"relu\"))\n",
    "model.add(Dense(units = 2, activation = \"softmax\"))"
   ]
  },
  {
   "cell_type": "code",
   "execution_count": 15,
   "metadata": {},
   "outputs": [],
   "source": [
    "model.compile(loss = 'binary_crossentropy', optimizer = Adam(learning_rate = 0.001), metrics = [\"accuracy\"])"
   ]
  },
  {
   "cell_type": "markdown",
   "metadata": {},
   "source": [
    "#### 1.2 Train de model"
   ]
  },
  {
   "cell_type": "code",
   "execution_count": 16,
   "metadata": {},
   "outputs": [
    {
     "name": "stderr",
     "output_type": "stream",
     "text": [
      "/home/vscode/.local/lib/python3.10/site-packages/keras/src/trainers/data_adapters/py_dataset_adapter.py:121: UserWarning: Your `PyDataset` class should call `super().__init__(**kwargs)` in its constructor. `**kwargs` can include `workers`, `use_multiprocessing`, `max_queue_size`. Do not pass these arguments to `fit()`, as they will be ignored.\n",
      "  self._warn_if_super_not_called()\n"
     ]
    },
    {
     "ename": "",
     "evalue": "",
     "output_type": "error",
     "traceback": [
      "\u001b[1;31mEl kernel se bloqueó al ejecutar código en la celda actual o en una celda anterior. \n",
      "\u001b[1;31mRevise el código de las celdas para identificar una posible causa del error. \n",
      "\u001b[1;31mHaga clic <a href='https://aka.ms/vscodeJupyterKernelCrash'>aquí</a> para obtener más información. \n",
      "\u001b[1;31mVea Jupyter <a href='command:jupyter.viewOutput'>log</a> para obtener más detalles."
     ]
    }
   ],
   "source": [
    "model.fit(trdata, epochs = 1)"
   ]
  },
  {
   "cell_type": "code",
   "execution_count": null,
   "metadata": {},
   "outputs": [],
   "source": []
  }
 ],
 "metadata": {
  "kernelspec": {
   "display_name": "Python 3",
   "language": "python",
   "name": "python3"
  },
  "language_info": {
   "codemirror_mode": {
    "name": "ipython",
    "version": 3
   },
   "file_extension": ".py",
   "mimetype": "text/x-python",
   "name": "python",
   "nbconvert_exporter": "python",
   "pygments_lexer": "ipython3",
   "version": "3.10.12"
  }
 },
 "nbformat": 4,
 "nbformat_minor": 2
}
